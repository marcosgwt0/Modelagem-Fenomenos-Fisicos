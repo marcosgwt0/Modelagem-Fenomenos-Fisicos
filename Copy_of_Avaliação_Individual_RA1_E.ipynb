{
  "nbformat": 4,
  "nbformat_minor": 0,
  "metadata": {
    "colab": {
      "provenance": [],
      "include_colab_link": true
    },
    "kernelspec": {
      "name": "python3",
      "display_name": "Python 3"
    },
    "language_info": {
      "name": "python"
    }
  },
  "cells": [
    {
      "cell_type": "markdown",
      "metadata": {
        "id": "view-in-github",
        "colab_type": "text"
      },
      "source": [
        "<a href=\"https://colab.research.google.com/github/marcosgwt0/Modelagem-Fenomenos-Fisicos/blob/main/Copy_of_Avalia%C3%A7%C3%A3o_Individual_RA1_E.ipynb\" target=\"_parent\"><img src=\"https://colab.research.google.com/assets/colab-badge.svg\" alt=\"Open In Colab\"/></a>"
      ]
    },
    {
      "cell_type": "markdown",
      "source": [],
      "metadata": {
        "id": "H3706UvNLD6M"
      }
    },
    {
      "cell_type": "markdown",
      "source": [
        "# Instruções:\n",
        "Para a realização desta tarefa você precisa fazer uma cópia deste carderno de questões para a sua conta. Você responderá a questão colando no AVA o link para a sua cópia contendo as suas respostas. \n",
        "\n",
        "Todas as questões precisam ser resolvidas algébrica e computacionalmente. Usando todos os recursos computacionais disponíveis na internet. Mas, você não pode consultar outros seres humanos. \n",
        "\n",
        "**Não se equeça de preencher seu nome nesta célula:**\n",
        "# Nome: Marcos Gabriel Wonsovicz Troiano\n"
      ],
      "metadata": {
        "id": "tNp1k47LJe0G"
      }
    },
    {
      "cell_type": "markdown",
      "source": [
        "5. Juros compostos em investimentos:\n",
        "\n",
        "Um investidor aplica R$ 5.000 em uma conta de poupança com uma taxa de juros anual de 6% composta mensalmente. Qual será o saldo da conta após 10 anos? Use a fórmula:\n",
        "\n",
        "$$\n",
        "A(t) = P \\cdot (1 + \\frac{r}{n})^{n \\cdot t}\n",
        "$$\n",
        "\n",
        "onde $A(t)$ é o saldo após $t$ anos, $P$ é o principal investido, $r$ é a taxa de juros anual, $n$ é o número de vezes que os juros são compostos por ano e $t$ é o tempo em anos. Não se esqueça de traçar um gráfico mostrando os juros, ano a ano nos próximos 20 anos.\n"
      ],
      "metadata": {
        "id": "j92ojVjTLSfL"
      }
    },
    {
      "cell_type": "markdown",
      "source": [
        "\n",
        "$$\n",
        "A(t) = 5.000 \\cdot (1 + \\frac{0.06}{12})^{12 \\cdot 10} \\approx 8.357,45\n",
        "$$\n",
        "\n"
      ],
      "metadata": {
        "id": "MqMogh8N6LBD"
      }
    },
    {
      "cell_type": "code",
      "execution_count": null,
      "metadata": {
        "id": "7gJpguxELC57",
        "colab": {
          "base_uri": "https://localhost:8080/",
          "height": 295
        },
        "outputId": "b4287d4c-61dd-40b4-82e7-cce1d828f682"
      },
      "outputs": [
        {
          "output_type": "display_data",
          "data": {
            "text/plain": [
              "<Figure size 432x288 with 1 Axes>"
            ],
            "image/png": "[encoded data removed]"
          },
          "metadata": {
            "needs_background": "light"
          }
        }
      ],
      "source": [
        "import matplotlib.pyplot as plt\n",
        "import numpy as np\n",
        "\n",
        "P = 5000\n",
        "r = 0.06\n",
        "n = 12\n",
        "t = 20\n",
        "\n",
        "anos = np.arange (1, t + 1, 1)\n",
        "saldo = [P * (1 + r/n)**(n*a) for a in anos]\n",
        "\n",
        "\n",
        "fig, ax = plt.subplots(1)\n",
        "ax.set_xlim(1,20)\n",
        "ax.set_xticks([1,2,3,4,5,6,7,8,9,10,11,12,13,14,15,16,17,18,19,20])\n",
        "plt.plot(anos, saldo)\n",
        "plt.title('Juros compostos ao longo do tempo')\n",
        "plt.xlabel('Anos')\n",
        "plt.ylabel('Saldo')\n",
        "plt.grid()\n",
        "plt.show()"
      ]
    },
    {
      "cell_type": "markdown",
      "source": [
        "# Questão 2\n",
        "Usando, a seu critério, as bibliotecas do Python, crie um gráfico para cada uma das funções a seguir. No label do gráfico deverá estar a função impressa com qualidade matemática (latex) e uma label dizendo se a função é crescente ou decrescente. \n",
        "\n",
        "1. $4^{x+2} - 2^{x+1} = 12$\n",
        "\n",
        "2. $\\log_{4}(x^2 - 4) - 2\\log_{4}(x - 2) = 0$"
      ],
      "metadata": {
        "id": "rc3vXhGLQIBZ"
      }
    },
    {
      "cell_type": "markdown",
      "source": [
        "Parte 1:"
      ],
      "metadata": {
        "id": "FuLI1-97Rc2t"
      }
    },
    {
      "cell_type": "code",
      "source": [
        "import numpy as np\n",
        "import matplotlib.pyplot as plt\n",
        "\n",
        "def f(x):\n",
        "    return (np.log2(3) - np.log2(2-x)) / np.log2(4)\n",
        "\n",
        "x = np.linspace(-5, 5, 100)\n",
        "y = f(x)\n",
        "\n",
        "plt.plot(x, y)\n",
        "plt.xlabel('$x$')\n",
        "plt.ylabel('$4^{x+2} - 2^{x+1} - 12$')\n",
        "plt.title('Função crescente')\n",
        "plt.grid()\n",
        "plt.show()\n"
      ],
      "metadata": {
        "id": "tvLVbcsTJdrT"
      },
      "execution_count": null,
      "outputs": []
    },
    {
      "cell_type": "markdown",
      "source": [
        "Parte 2:"
      ],
      "metadata": {
        "id": "wDGCFu_-RiLj"
      }
    },
    {
      "cell_type": "code",
      "source": [
        "import numpy as np\n",
        "import matplotlib.pyplot as plt\n",
        "\n",
        "def g(x):\n",
        "    return np.piecewise(x, [x<=2, x>2], [lambda x: np.nan, lambda x: 2])\n",
        "\n",
        "x = np.linspace(-5, 5, 100)\n",
        "y = g(x)\n",
        "\n",
        "plt.plot(x, y)\n",
        "plt.xlabel('$x$')\n",
        "plt.ylabel('$\\log_{4}(x^2 - 4) - 2\\log_{4}(x - 2)$')\n",
        "plt.title('Função constante')\n",
        "plt.grid()\n",
        "plt.show()"
      ],
      "metadata": {
        "id": "Nt8e4faORjXa"
      },
      "execution_count": null,
      "outputs": []
    },
    {
      "cell_type": "markdown",
      "source": [
        "# Questão 3\n",
        "Usando o Sympy, ou qualquer outro recurso disponível na internet, escreva, com qualidade matemática, o passo-a-passo algébrico que leva a determinação dos indicados a seguir. Ao final, para cada uma das equações, você deverá traçar um gráfico da função. \n",
        "\n",
        "1. $\\lim_{x \\to 0} \\frac{e^{2x} - 1}{\\sin(x)}$\n",
        "\n",
        "2. $\\lim_{x \\to 0} \\frac{\\tan(x) - x}{x^3}$"
      ],
      "metadata": {
        "id": "p1up2YibSrn3"
      }
    },
    {
      "cell_type": "markdown",
      "source": [
        "Parte 1:\n",
        "$\\lim_{x \\to 0} \\frac{e^{2x} - 1}{\\sin(x)} = \\lim_{x \\to 0} \\frac{(e^{2x})'}{(\\sin(x))'}$\n",
        "\n",
        "Simplificando, temos:\n",
        "\n",
        "$\\lim_{x \\to 0} \\frac{2e^{2x}}{\\cos(x)}$\n",
        "\n",
        "Substituindo o valor de X, temos:\n",
        "\n",
        "$\\lim_{x \\to 0} \\frac{2e^{2x}}{\\cos(x)} = \\frac{2}{1} = 2$"
      ],
      "metadata": {
        "id": "3jFYQoNICM-Y"
      }
    },
    {
      "cell_type": "code",
      "source": [
        "import matplotlib.pyplot as plt\n",
        "import numpy as np\n",
        "from sympy import *\n",
        "\n",
        "# Define a função\n",
        "x = symbols('x')\n",
        "f = (exp(2*x) - 1) / sin(x)\n",
        "\n",
        "# Traça o gráfico\n",
        "p = plot(f, show=False)\n",
        "p.ylim = [-10, 10]\n",
        "p.xlim = [-5, 5]\n",
        "p.title = \"Gráfico da função f(x) = (exp(2x) - 1) / sin(x)\"\n",
        "p.show()"
      ],
      "metadata": {
        "colab": {
          "base_uri": "https://localhost:8080/",
          "height": 297
        },
        "id": "5ch2juICPVd4",
        "outputId": "308984a2-ab00-4bd8-a3b0-be8a5aa35f1f"
      },
      "execution_count": null,
      "outputs": [
        {
          "output_type": "display_data",
          "data": {
            "text/plain": [
              "<Figure size 432x288 with 1 Axes>"
            ],
            "image/png": "[encoded data removed]"
          },
          "metadata": {
            "needs_background": "light"
          }
        }
      ]
    },
    {
      "cell_type": "markdown",
      "source": [
        "Parte 2: $\\tan(x) = x + \\frac{x^3}{3} + O(x^5)$\n",
        "\n",
        "Substituindo na expressão do limite, temos:\n",
        "\n",
        "$\\lim_{x \\to 0} \\frac{\\tan(x) - x}{x^3} = \\lim_{x \\to 0} \\frac{(x + \\frac{x^3}{3} + O(x^5)) - x}{x^3} = \\lim_{x \\to 0} \\frac{\\frac{x^3}{3} + O(x^5)}{x^3}$\n",
        "\n",
        "Simplificando, temos:\n",
        "\n",
        "$\\lim_{x \\to 0} \\frac{\\frac{1}{3} + O(x^2)}{1} = \\frac{1}{3}$"
      ],
      "metadata": {
        "id": "sJSW--c4PVxy"
      }
    },
    {
      "cell_type": "code",
      "source": [
        "import matplotlib.pyplot as plt\n",
        "import numpy as np\n",
        "\n",
        "# Define a função\n",
        "def f(x):\n",
        "    return (np.tan(x) - x) / x**3\n",
        "\n",
        "# Gera um conjunto de pontos\n",
        "x = np.linspace(-5, 5, 1000)\n",
        "y = f(x)\n",
        "\n",
        "# Traça o gráfico\n",
        "plt.plot(x, y)\n",
        "plt.title(\"Gráfico da função f(x) = (tan(x) - x) / x^3\")\n",
        "plt.xlabel(\"x\")\n",
        "plt.ylabel(\"y\")\n",
        "plt.ylim(-10, 10)\n",
        "plt.xlim(-5, 5)\n",
        "plt.show()\n"
      ],
      "metadata": {
        "colab": {
          "base_uri": "https://localhost:8080/",
          "height": 295
        },
        "id": "fFbvhw1ePZs5",
        "outputId": "b2228e41-03a9-4b6b-d74e-266305762eac"
      },
      "execution_count": null,
      "outputs": [
        {
          "output_type": "display_data",
          "data": {
            "text/plain": [
              "<Figure size 432x288 with 1 Axes>"
            ],
            "image/png": "[encoded data removed]"
          },
          "metadata": {
            "needs_background": "light"
          }
        }
      ]
    }
  ]
}